{
 "cells": [
  {
   "cell_type": "code",
   "execution_count": 1,
   "metadata": {
    "ExecuteTime": {
     "end_time": "2019-03-08T04:03:40.119030Z",
     "start_time": "2019-03-08T04:03:39.883138Z"
    }
   },
   "outputs": [],
   "source": [
    "import numpy as np\n",
    "import cv2\n",
    "import task1\n",
    "import matplotlib.pyplot as plt\n",
    "import copy"
   ]
  },
  {
   "cell_type": "code",
   "execution_count": 2,
   "metadata": {
    "ExecuteTime": {
     "end_time": "2019-03-08T04:03:40.324024Z",
     "start_time": "2019-03-08T04:03:40.316390Z"
    }
   },
   "outputs": [],
   "source": [
    "img = cv2.imread(\"./data/proj1-task2.jpg\")#,cv2.IMREAD_GRAYSCALE)"
   ]
  },
  {
   "cell_type": "code",
   "execution_count": 3,
   "metadata": {
    "ExecuteTime": {
     "end_time": "2019-03-08T04:03:40.511268Z",
     "start_time": "2019-03-08T04:03:40.507968Z"
    }
   },
   "outputs": [],
   "source": [
    "def show_image(img, delay=10000):\n",
    "    cv2.imshow('IMG',img)\n",
    "    cv2.waitKey(delay)\n",
    "    cv2.destroyAllWindows()"
   ]
  },
  {
   "cell_type": "code",
   "execution_count": 4,
   "metadata": {
    "ExecuteTime": {
     "end_time": "2019-03-08T04:03:40.699524Z",
     "start_time": "2019-03-08T04:03:40.695143Z"
    }
   },
   "outputs": [],
   "source": [
    "a_template = img[136:146, 240:248]\n",
    "c_template = img[215:223, 122:129]\n",
    "b_template = img[187:201,614:622]"
   ]
  },
  {
   "cell_type": "code",
   "execution_count": 5,
   "metadata": {
    "ExecuteTime": {
     "end_time": "2019-03-08T04:03:40.857805Z",
     "start_time": "2019-03-08T04:03:40.850489Z"
    }
   },
   "outputs": [],
   "source": [
    "def templateMatching(img, template):\n",
    "    img = img.copy()\n",
    "    img_gray = cv2.cvtColor(img, cv2.COLOR_BGR2GRAY)\n",
    "    template = cv2.cvtColor(template, cv2.COLOR_BGR2GRAY)\n",
    "    w, h = template.T.shape\n",
    "    w, h = w, h\n",
    "    res = cv2.matchTemplate(img_gray,template,cv2.TM_CCOEFF_NORMED)\n",
    "    threshold = 0.7\n",
    "    loc = np.where( res >= threshold)\n",
    "    cnt = 0\n",
    "    for pt in zip(*loc[::-1]):\n",
    "        cv2.rectangle(img, pt, (pt[0] + w, pt[1] + h), (0,0,255), 2)\n",
    "        cnt+=1\n",
    "    print(cnt)\n",
    "    \n",
    "    return img\n",
    "\n",
    "# cv2.imwrite('res.png',img_rgb)"
   ]
  },
  {
   "cell_type": "code",
   "execution_count": 6,
   "metadata": {
    "ExecuteTime": {
     "end_time": "2019-03-08T04:03:41.030882Z",
     "start_time": "2019-03-08T04:03:41.028111Z"
    }
   },
   "outputs": [],
   "source": [
    "# show_image(img,0)\n",
    "\n",
    "# show_image(templateMatching(img, a_template))\n",
    "\n",
    "# show_image(templateMatching(img, b_template))\n",
    "\n",
    "# show_image(templateMatching(img, c_template),0)\n",
    "\n",
    "# template = cv2.cvtColor(a_template, cv2.COLOR_BGR2GRAY)"
   ]
  },
  {
   "cell_type": "code",
   "execution_count": 7,
   "metadata": {
    "ExecuteTime": {
     "end_time": "2019-03-08T04:03:42.669118Z",
     "start_time": "2019-03-08T04:03:42.656867Z"
    },
    "code_folding": []
   },
   "outputs": [],
   "source": [
    "#Reference - https://docs.opencv.org/2.4/doc/tutorials/imgproc/histograms/template_matching/template_matching.html\n",
    "def get_ccoeff_normed(img, template):\n",
    "    \n",
    "    arr_element_sub = lambda arr, val: [arr_val - val for arr_val in arr]\n",
    "    element_squared_sum = lambda arr: sum(z**2 for z in arr)\n",
    "    sum_normed = lambda arr, const: sum(arr) / const\n",
    "    sum_of_prods = lambda arr1, arr2: sum([a1_val * a2_val for a1_val, a2_val in zip(arr1, arr2)])\n",
    "    flatten = lambda arr : [arr_val for arr_row in arr for arr_val in arr_row]\n",
    "\n",
    "    w ,h =  len(template), len(template[0]),\n",
    "    wh_prod = w*h*1.0\n",
    "    \n",
    "    ccoeff_normed = [[0.0 for _ in range(len(img[0]) - h + 1)] for _ in range(len(img) - w + 1)]\n",
    "#     print(\"w %d h %d ccnormed_len %d ccnormed_len %d\" %(w,h, len(ccoeff_normed),len(ccoeff_normed[0])))\n",
    "\n",
    "    #Is same for every sliding window as template doesn't change\n",
    "    template = flatten(template)\n",
    "    t_sum_normed = sum_normed(template, wh_prod)\n",
    "    t_dash = arr_element_sub(template, t_sum_normed)\n",
    "    t_dash_sum_squared = element_squared_sum(t_dash)\n",
    "\n",
    "    #Hack for zeros\n",
    "    if(t_dash_sum_squared == 0):\n",
    "        t_dash_sum_squared = 1e-6\n",
    "#     print('t_sum_normed %f t_dash %s t_dash_sum_sq %d'%(t_sum_normed, t_dash, t_dash_sum_squared))\n",
    "\n",
    "    def get_ccoeff_normed_val(i, j,):\n",
    "#         nonlocal img, template\n",
    "#         nonlocal t_sum_normed\n",
    "\n",
    "        #Flatten the image\n",
    "        im = [img[x][y] for x in range(i, i + w) for y in range(j, j + h)]\n",
    "#         print('Im',im)\n",
    "\n",
    "        #changes with the window\n",
    "        #check for indices\n",
    "        i_sum_normed = sum_normed(im, wh_prod)\n",
    "        i_dash = arr_element_sub(im, i_sum_normed)\n",
    "        i_dash_sum_squared = element_squared_sum(i_dash)\n",
    "        if i_dash_sum_squared == 0:\n",
    "            i_dash_sum_squared = 1e-6\n",
    "    \n",
    "        \n",
    "#         print('i_sum_normed %d \\nimg = %s\\n i_dash %s\\n i_dash_sum_sq %d'%(i_sum_normed, im, i_dash, t_dash_sum_squared))        \n",
    "#         print('t_Val=%d i_val=%d'%(len(t_dash), len(i_dash)))\n",
    "#         input()\n",
    "        \n",
    "        numerator = sum_of_prods(t_dash, i_dash)\n",
    "        denominator = np.sqrt(t_dash_sum_squared * i_dash_sum_squared)\n",
    "        \n",
    "#         print(numerator, denominator)\n",
    "        return numerator/denominator\n",
    "    \n",
    "    for x in range(len(ccoeff_normed) - w):\n",
    "        for y in range(len(ccoeff_normed[0]) - h):\n",
    "            ccoeff_normed[x][y] = get_ccoeff_normed_val(x, y)\n",
    "    return ccoeff_normed"
   ]
  },
  {
   "cell_type": "code",
   "execution_count": 8,
   "metadata": {
    "ExecuteTime": {
     "end_time": "2019-03-08T04:03:44.700151Z",
     "start_time": "2019-03-08T04:03:44.694375Z"
    }
   },
   "outputs": [],
   "source": [
    "templateList = cv2.cvtColor(a_template, cv2.COLOR_BGR2GRAY).tolist()\n",
    "imgList = cv2.cvtColor(img, cv2.COLOR_BGR2GRAY).tolist()"
   ]
  },
  {
   "cell_type": "code",
   "execution_count": 9,
   "metadata": {
    "ExecuteTime": {
     "end_time": "2019-03-08T04:03:45.025880Z",
     "start_time": "2019-03-08T04:03:45.022757Z"
    }
   },
   "outputs": [],
   "source": [
    "# # temp_c = cv2.cvtColor(c_template, cv2.COLOR_BGR2GRAY)\n",
    "\n",
    "# # mul = lambda x : i*\n",
    "# t_sum_normed = temp_c.sum()/ np.prod(temp_c.shape)\n",
    "# t_dash = temp_c.flatten() - t_sum_normed\n",
    "# t_dash_sum_squared = np.square(t_dash).sum()\n",
    "# print('t_sum_normed',t_sum_normed)\n",
    "# print('t_dash \\n',t_dash)\n",
    "# print('t_dash_sum_squared',t_dash_sum_squared)"
   ]
  },
  {
   "cell_type": "code",
   "execution_count": 14,
   "metadata": {
    "ExecuteTime": {
     "end_time": "2019-03-08T04:06:22.069595Z",
     "start_time": "2019-03-08T04:06:16.689642Z"
    }
   },
   "outputs": [],
   "source": [
    "ccoeff_normed = get_ccoeff_normed(imgList, templateList)\n",
    "threshold = 0.7\n",
    "coordinates = [(y,x) for x in range(len(ccoeff_normed)) for y in range(len(ccoeff_normed[0])) if ccoeff_normed[x][y] >= threshold]"
   ]
  },
  {
   "cell_type": "code",
   "execution_count": 11,
   "metadata": {
    "ExecuteTime": {
     "end_time": "2019-03-08T04:03:50.776007Z",
     "start_time": "2019-03-08T04:03:50.745463Z"
    }
   },
   "outputs": [],
   "source": [
    "z = cv2.matchTemplate(np.array(imgList, dtype=np.float32), np.array(templateList, dtype=np.float32), cv2.TM_CCOEFF_NORMED)"
   ]
  },
  {
   "cell_type": "code",
   "execution_count": 24,
   "metadata": {
    "ExecuteTime": {
     "end_time": "2019-03-08T04:16:38.829090Z",
     "start_time": "2019-03-08T04:16:38.509754Z"
    }
   },
   "outputs": [],
   "source": [
    "coordinates_z = [(y,x) for x in range(len(z)) for y in range(len(z[0])) if z[x][y] >= threshold]"
   ]
  },
  {
   "cell_type": "code",
   "execution_count": 23,
   "metadata": {
    "ExecuteTime": {
     "end_time": "2019-03-08T04:07:55.554089Z",
     "start_time": "2019-03-08T04:07:55.549357Z"
    }
   },
   "outputs": [
    {
     "data": {
      "text/plain": [
       "[(281, 55),\n",
       " (341, 55),\n",
       " (281, 56),\n",
       " (341, 56),\n",
       " (293, 88),\n",
       " (240, 136),\n",
       " (414, 136),\n",
       " (415, 136),\n",
       " (456, 136),\n",
       " (520, 136),\n",
       " (569, 136),\n",
       " (570, 136),\n",
       " (514, 161),\n",
       " (430, 189),\n",
       " (183, 214),\n",
       " (184, 214),\n",
       " (264, 214),\n",
       " (265, 214),\n",
       " (585, 214),\n",
       " (253, 238),\n",
       " (289, 238),\n",
       " (107, 269)]"
      ]
     },
     "execution_count": 23,
     "metadata": {},
     "output_type": "execute_result"
    }
   ],
   "source": [
    "coordinates"
   ]
  },
  {
   "cell_type": "code",
   "execution_count": 25,
   "metadata": {
    "ExecuteTime": {
     "end_time": "2019-03-08T04:16:43.518074Z",
     "start_time": "2019-03-08T04:16:43.509483Z"
    }
   },
   "outputs": [
    {
     "data": {
      "text/plain": [
       "[(281, 55),\n",
       " (341, 55),\n",
       " (281, 56),\n",
       " (341, 56),\n",
       " (293, 88),\n",
       " (240, 136),\n",
       " (414, 136),\n",
       " (415, 136),\n",
       " (456, 136),\n",
       " (520, 136),\n",
       " (569, 136),\n",
       " (570, 136),\n",
       " (514, 161),\n",
       " (430, 189),\n",
       " (183, 214),\n",
       " (184, 214),\n",
       " (264, 214),\n",
       " (265, 214),\n",
       " (585, 214),\n",
       " (253, 238),\n",
       " (289, 238),\n",
       " (107, 269)]"
      ]
     },
     "execution_count": 25,
     "metadata": {},
     "output_type": "execute_result"
    }
   ],
   "source": [
    "coordinates_z"
   ]
  },
  {
   "cell_type": "code",
   "execution_count": null,
   "metadata": {},
   "outputs": [],
   "source": []
  }
 ],
 "metadata": {
  "kernelspec": {
   "display_name": "Python 3",
   "language": "python",
   "name": "python3"
  },
  "language_info": {
   "codemirror_mode": {
    "name": "ipython",
    "version": 3
   },
   "file_extension": ".py",
   "mimetype": "text/x-python",
   "name": "python",
   "nbconvert_exporter": "python",
   "pygments_lexer": "ipython3",
   "version": "3.6.8"
  }
 },
 "nbformat": 4,
 "nbformat_minor": 2
}
