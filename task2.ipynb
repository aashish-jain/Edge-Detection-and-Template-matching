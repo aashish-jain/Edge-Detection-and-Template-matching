{
 "cells": [
  {
   "cell_type": "code",
   "execution_count": 1,
   "metadata": {
    "ExecuteTime": {
     "end_time": "2019-03-11T05:35:43.747463Z",
     "start_time": "2019-03-11T05:35:43.522285Z"
    }
   },
   "outputs": [],
   "source": [
    "import numpy as np\n",
    "import cv2\n",
    "import task1\n",
    "import matplotlib.pyplot as plt\n",
    "import copy\n",
    "import json"
   ]
  },
  {
   "cell_type": "code",
   "execution_count": 30,
   "metadata": {
    "ExecuteTime": {
     "end_time": "2019-03-11T05:48:29.582559Z",
     "start_time": "2019-03-11T05:48:29.574858Z"
    }
   },
   "outputs": [],
   "source": [
    "img = cv2.imread(\"./data/proj1-task2.jpg\")#,cv2.IMREAD_GRAYSCALE)\n",
    "b_try = cv2.imread(\"./data/b_try.jpg\")# cv2.IMREAD_GRAYSCALE);"
   ]
  },
  {
   "cell_type": "code",
   "execution_count": 3,
   "metadata": {
    "ExecuteTime": {
     "end_time": "2019-03-11T05:35:46.639613Z",
     "start_time": "2019-03-11T05:35:46.636387Z"
    }
   },
   "outputs": [],
   "source": [
    "def show_image(img, delay=10000):\n",
    "    cv2.imshow('IMG',img)\n",
    "    cv2.waitKey(delay)\n",
    "    cv2.destroyAllWindows()"
   ]
  },
  {
   "cell_type": "code",
   "execution_count": 4,
   "metadata": {
    "ExecuteTime": {
     "end_time": "2019-03-11T05:35:46.910848Z",
     "start_time": "2019-03-11T05:35:46.908407Z"
    }
   },
   "outputs": [],
   "source": [
    "# a_template = img[136:146, 240:248]\n",
    "# c_template = img[215:223, 122:129]\n",
    "b_template = img[185:200,95:102]"
   ]
  },
  {
   "cell_type": "code",
   "execution_count": 23,
   "metadata": {
    "ExecuteTime": {
     "end_time": "2019-03-11T05:38:55.317324Z",
     "start_time": "2019-03-11T05:38:52.471515Z"
    }
   },
   "outputs": [],
   "source": [
    "b_template = img[158:173,211:217]\n",
    "show_image(b_template,0)"
   ]
  },
  {
   "cell_type": "code",
   "execution_count": 6,
   "metadata": {
    "ExecuteTime": {
     "end_time": "2019-03-11T05:35:53.947557Z",
     "start_time": "2019-03-11T05:35:53.943246Z"
    }
   },
   "outputs": [],
   "source": [
    "# b_template[b_template>220] = 255\n",
    "# b_template[b_template<200] = 130\n",
    "# b_template[b_template<150] = 100\n",
    "# b_template[b_template<90] = 70"
   ]
  },
  {
   "cell_type": "code",
   "execution_count": 7,
   "metadata": {
    "ExecuteTime": {
     "end_time": "2019-03-11T05:35:59.367423Z",
     "start_time": "2019-03-11T05:35:55.374827Z"
    }
   },
   "outputs": [],
   "source": [
    "show_image(img, 0)"
   ]
  },
  {
   "cell_type": "code",
   "execution_count": 8,
   "metadata": {
    "ExecuteTime": {
     "end_time": "2019-03-11T05:36:00.295385Z",
     "start_time": "2019-03-11T05:35:59.375877Z"
    }
   },
   "outputs": [],
   "source": [
    "show_image(b_template,0)"
   ]
  },
  {
   "cell_type": "code",
   "execution_count": 8,
   "metadata": {
    "ExecuteTime": {
     "end_time": "2019-03-11T05:29:38.309627Z",
     "start_time": "2019-03-11T05:29:38.305397Z"
    }
   },
   "outputs": [],
   "source": [
    "# cv2.imwrite('./data/a.jpg', a_template)\n",
    "# cv2.imwrite('./data/b.jpg', b_template)\n",
    "# cv2.imwrite('./data/c.jpg', c_template)"
   ]
  },
  {
   "cell_type": "code",
   "execution_count": 15,
   "metadata": {
    "ExecuteTime": {
     "end_time": "2019-03-11T05:38:14.978799Z",
     "start_time": "2019-03-11T05:38:14.972286Z"
    }
   },
   "outputs": [],
   "source": [
    "def templateMatching(img, template, threshold):\n",
    "    img_gray = cv2.cvtColor(img, cv2.COLOR_BGR2GRAY)\n",
    "    template = cv2.cvtColor(template, cv2.COLOR_BGR2GRAY)\n",
    "    w, h = template.T.shape\n",
    "    res = cv2.matchTemplate(img_gray,template,cv2.TM_CCOEFF_NORMED)\n",
    "    loc = np.where( res >= threshold)\n",
    "    cnt = 0\n",
    "    for pt in zip(*loc[::-1]):\n",
    "        cv2.rectangle(img, pt, (pt[0] + w, pt[1] + h), (0,0,255), 2)\n",
    "        cnt+=1\n",
    "#     print(cnt)\n",
    "    ##temp\n",
    "    return cnt\n",
    "    return img\n",
    "\n",
    "# cv2.imwrite('res.png',img_rgb)"
   ]
  },
  {
   "cell_type": "code",
   "execution_count": 16,
   "metadata": {
    "ExecuteTime": {
     "end_time": "2019-03-11T05:38:15.244403Z",
     "start_time": "2019-03-11T05:38:15.239997Z"
    }
   },
   "outputs": [],
   "source": [
    "def show_matches(img, coordinates, template, delay = 0):\n",
    "    img = img.copy()\n",
    "    w,h = len(template[0]), len(template)\n",
    "    for x,y in coordinates:\n",
    "        cv2.rectangle(img, (x,y), (x+w,y+h), (0,0,255), 1)\n",
    "    show_image(img, delay)"
   ]
  },
  {
   "cell_type": "code",
   "execution_count": 17,
   "metadata": {
    "ExecuteTime": {
     "end_time": "2019-03-11T05:38:15.507867Z",
     "start_time": "2019-03-11T05:38:15.496114Z"
    },
    "code_folding": []
   },
   "outputs": [],
   "source": [
    "#Reference - https://docs.opencv.org/2.4/doc/tutorials/imgproc/histograms/template_matching/template_matching.html\n",
    "def get_ccoeff_normed(img, template):\n",
    "    \n",
    "    arr_element_sub = lambda arr, val: [arr_val - val for arr_val in arr]\n",
    "    element_squared_sum = lambda arr: sum(z**2 for z in arr)\n",
    "    sum_normed = lambda arr, const: sum(arr) / const\n",
    "    sum_of_prods = lambda arr1, arr2: sum([a1_val * a2_val for a1_val, a2_val in zip(arr1, arr2)])\n",
    "    flatten = lambda arr : [arr_val for arr_row in arr for arr_val in arr_row]\n",
    "\n",
    "    w ,h =  len(template), len(template[0]),\n",
    "    wh_prod = w*h*1.0\n",
    "    \n",
    "    ccoeff_normed = [[0.0 for _ in range(len(img[0]) - h + 1)] for _ in range(len(img) - w + 1)]\n",
    "#     print(\"w %d h %d ccnormed_len %d ccnormed_len %d\" %(w,h, len(ccoeff_normed),len(ccoeff_normed[0])))\n",
    "\n",
    "    #Is same for every sliding window as template doesn't change\n",
    "    template = flatten(template)\n",
    "    t_sum_normed = sum_normed(template, wh_prod)\n",
    "    t_dash = arr_element_sub(template, t_sum_normed)\n",
    "    t_dash_sum_squared = element_squared_sum(t_dash)\n",
    "\n",
    "    #Hack for zeros\n",
    "    if(t_dash_sum_squared == 0):\n",
    "        t_dash_sum_squared = 1e-6\n",
    "#     print('t_sum_normed %f t_dash %s t_dash_sum_sq %d'%(t_sum_normed, t_dash, t_dash_sum_squared))\n",
    "\n",
    "    def get_ccoeff_normed_val(i, j,):\n",
    "#         nonlocal img, template\n",
    "#         nonlocal t_sum_normed\n",
    "\n",
    "        #Flatten the image\n",
    "        im = [img[x][y] for x in range(i, i + w) for y in range(j, j + h)]\n",
    "#         print('Im',im)\n",
    "\n",
    "        #changes with the window\n",
    "        #check for indices\n",
    "        i_sum_normed = sum_normed(im, wh_prod)\n",
    "        i_dash = arr_element_sub(im, i_sum_normed)\n",
    "        i_dash_sum_squared = element_squared_sum(i_dash)\n",
    "        if i_dash_sum_squared == 0:\n",
    "            i_dash_sum_squared = 1e-6\n",
    "    \n",
    "        \n",
    "#         print('i_sum_normed %d \\nimg = %s\\n i_dash %s\\n i_dash_sum_sq %d'%(i_sum_normed, im, i_dash, t_dash_sum_squared))        \n",
    "#         print('t_Val=%d i_val=%d'%(len(t_dash), len(i_dash)))\n",
    "#         input()\n",
    "        \n",
    "        numerator = sum_of_prods(t_dash, i_dash)\n",
    "        denominator = np.sqrt(t_dash_sum_squared * i_dash_sum_squared)\n",
    "        \n",
    "#         print(numerator, denominator)\n",
    "        return numerator/denominator\n",
    "    \n",
    "    for x in range(len(ccoeff_normed) - w):\n",
    "        for y in range(len(ccoeff_normed[0]) - h):\n",
    "            ccoeff_normed[x][y] = get_ccoeff_normed_val(x, y)\n",
    "    return ccoeff_normed"
   ]
  },
  {
   "cell_type": "code",
   "execution_count": 18,
   "metadata": {
    "ExecuteTime": {
     "end_time": "2019-03-11T05:38:16.450220Z",
     "start_time": "2019-03-11T05:38:16.444748Z"
    }
   },
   "outputs": [],
   "source": [
    "def to_grayscalelist(img):\n",
    "    if type(img)==list:\n",
    "        return cv2.cvtColor(np.array(img), cv2.COLOR_BGR2GRAY).tolist()\n",
    "    else:\n",
    "        return cv2.cvtColor(img, cv2.COLOR_BGR2GRAY).tolist()"
   ]
  },
  {
   "cell_type": "code",
   "execution_count": 19,
   "metadata": {
    "ExecuteTime": {
     "end_time": "2019-03-11T05:38:16.823128Z",
     "start_time": "2019-03-11T05:38:16.817022Z"
    }
   },
   "outputs": [],
   "source": [
    "def detect(img, template, threshold=0.7):\n",
    "    ccoeff_normed_mat = get_ccoeff_normed(img, template)\n",
    "    #Get the coordinates\n",
    "    #Inverted as the x maps to columns and y maps to rows from pixel coords to matrix\n",
    "    coordinates = [(y,x) for x in range(len(ccoeff_normed_mat)) \\\n",
    "        for y in range(len(ccoeff_normed_mat[0])) if ccoeff_normed_mat[x][y] >= threshold]    \n",
    "    return coordinates\n"
   ]
  },
  {
   "cell_type": "code",
   "execution_count": 20,
   "metadata": {
    "ExecuteTime": {
     "end_time": "2019-03-11T05:38:17.214915Z",
     "start_time": "2019-03-11T05:38:17.210081Z"
    }
   },
   "outputs": [],
   "source": [
    "def detect_and_show(img, template, threshold=0.7):\n",
    "    coords =detect(to_grayscalelist(img), to_grayscalelist(template), threshold)\n",
    "    show_matches(img, coords, template)\n",
    "    return coords"
   ]
  },
  {
   "cell_type": "code",
   "execution_count": 21,
   "metadata": {
    "ExecuteTime": {
     "end_time": "2019-03-11T05:38:18.175678Z",
     "start_time": "2019-03-11T05:38:18.171370Z"
    }
   },
   "outputs": [],
   "source": [
    "# a_coordinates = detect_and_show(img, a_template, 0.62)"
   ]
  },
  {
   "cell_type": "code",
   "execution_count": 36,
   "metadata": {
    "ExecuteTime": {
     "end_time": "2019-03-11T05:51:58.386101Z",
     "start_time": "2019-03-11T05:50:58.080504Z"
    }
   },
   "outputs": [],
   "source": [
    "b_coordinates = detect_and_show(img, b_try, 0.74)"
   ]
  },
  {
   "cell_type": "code",
   "execution_count": null,
   "metadata": {
    "ExecuteTime": {
     "end_time": "2019-03-11T03:57:43.925985Z",
     "start_time": "2019-03-11T03:56:58.311929Z"
    }
   },
   "outputs": [],
   "source": [
    "# c_coordinates = detect_and_show(img, c_template, 0.75)"
   ]
  },
  {
   "cell_type": "code",
   "execution_count": 38,
   "metadata": {
    "ExecuteTime": {
     "end_time": "2019-03-11T05:53:54.328423Z",
     "start_time": "2019-03-11T05:53:54.322045Z"
    }
   },
   "outputs": [],
   "source": [
    "def plot_and_show(img, alphabet, thickness = 2):\n",
    "    dictionary = json.load(open('temp/%s.json' % alphabet))\n",
    "    coordinates = dictionary['coordinates']\n",
    "    template_size = dictionary['templat_size']\n",
    "    img = img.copy()\n",
    "    h,w = template_size\n",
    "    for x,y in coordinates:\n",
    "        cv2.rectangle(img, (x,y), (x+w,y+h), (0,255,0), thickness)\n",
    "    show_image(img, 0)"
   ]
  },
  {
   "cell_type": "code",
   "execution_count": 42,
   "metadata": {
    "ExecuteTime": {
     "end_time": "2019-03-11T05:55:44.094590Z",
     "start_time": "2019-03-11T05:55:31.033624Z"
    }
   },
   "outputs": [],
   "source": [
    "plot_and_show(img, 'b',1 )"
   ]
  },
  {
   "cell_type": "code",
   "execution_count": null,
   "metadata": {},
   "outputs": [],
   "source": []
  }
 ],
 "metadata": {
  "kernelspec": {
   "display_name": "Python 3",
   "language": "python",
   "name": "python3"
  },
  "language_info": {
   "codemirror_mode": {
    "name": "ipython",
    "version": 3
   },
   "file_extension": ".py",
   "mimetype": "text/x-python",
   "name": "python",
   "nbconvert_exporter": "python",
   "pygments_lexer": "ipython3",
   "version": "3.6.8"
  }
 },
 "nbformat": 4,
 "nbformat_minor": 2
}
